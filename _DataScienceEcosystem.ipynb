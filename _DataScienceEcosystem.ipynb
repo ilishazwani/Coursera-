{
 "cells": [
  {
   "cell_type": "markdown",
   "id": "426bb604-1fb5-40ff-8d68-8772960e4049",
   "metadata": {},
   "source": [
    "# Data Science Tools and Ecosystem"
   ]
  },
  {
   "cell_type": "markdown",
   "id": "07876c75-d22d-4033-97fd-04e7b7367ae9",
   "metadata": {},
   "source": [
    "### In this notebook, Data Science Tools and Ecosystem are summarized."
   ]
  },
  {
   "cell_type": "markdown",
   "id": "24e436a8-6f0d-47af-9285-58d9923bc9b7",
   "metadata": {},
   "source": [
    "__Objectives:__\n",
    "- List popular languages for Data Science\n",
    "- Commonly used libraries used by Data Science\n",
    "- Data Science tool\n",
    "- Arithmetic expression"
   ]
  },
  {
   "cell_type": "markdown",
   "id": "d1f0b035-6b56-45f5-8cb6-bcef7181ca71",
   "metadata": {},
   "source": [
    "###### Some of the popular languages that Data Scientists use are:\n",
    "1. Python\n",
    "2. R\n",
    "3. Java\n",
    "4. C++"
   ]
  },
  {
   "cell_type": "markdown",
   "id": "608fa13f-4277-4250-aa42-47101c244257",
   "metadata": {},
   "source": [
    "###### Some of the commonly used libraries used by Data Scientists include:\n",
    "- NumPy\n",
    "- Keras\n",
    "- Pandas\n",
    "- TensorFlow"
   ]
  },
  {
   "cell_type": "markdown",
   "id": "4a76f2e3-dc7a-4ac2-a45a-27e9107751b0",
   "metadata": {},
   "source": [
    "| Data Science Tools | \n",
    "| -------------| \n",
    "| Jupyter Notebook |  \n",
    "| RStudio  | \n",
    "| PyCharm | "
   ]
  },
  {
   "cell_type": "markdown",
   "id": "e254a5f6-7136-49c9-8422-643039d98893",
   "metadata": {},
   "source": [
    "### Below are a few examples of evaluating arithmetic expressions in Python"
   ]
  },
  {
   "cell_type": "code",
   "execution_count": 15,
   "id": "6236fea8-2a4d-4f63-b33f-960a7f808da9",
   "metadata": {},
   "outputs": [
    {
     "data": {
      "text/plain": [
       "17"
      ]
     },
     "execution_count": 15,
     "metadata": {},
     "output_type": "execute_result"
    }
   ],
   "source": [
    "#This a simple arithmetic expression to mutiply then add integers\n",
    "(3*4)+5\n"
   ]
  },
  {
   "cell_type": "code",
   "execution_count": 16,
   "id": "323419b7-c644-4466-87cb-e34699a89409",
   "metadata": {},
   "outputs": [
    {
     "data": {
      "text/plain": [
       "3.3333333333333335"
      ]
     },
     "execution_count": 16,
     "metadata": {},
     "output_type": "execute_result"
    }
   ],
   "source": [
    "#This will convert 200 minutes to hours by diving by 60\n",
    "200/60"
   ]
  },
  {
   "cell_type": "markdown",
   "id": "91692ac1-fa47-44cd-8f65-26013506e399",
   "metadata": {},
   "source": [
    "## Author:\n",
    "Ili Shazwani binti Nazri "
   ]
  },
  {
   "cell_type": "code",
   "execution_count": null,
   "id": "d3c0a954-4177-48a0-9ee8-efae685f4dbf",
   "metadata": {},
   "outputs": [],
   "source": []
  }
 ],
 "metadata": {
  "kernelspec": {
   "display_name": "Python 3 (ipykernel)",
   "language": "python",
   "name": "python3"
  },
  "language_info": {
   "codemirror_mode": {
    "name": "ipython",
    "version": 3
   },
   "file_extension": ".py",
   "mimetype": "text/x-python",
   "name": "python",
   "nbconvert_exporter": "python",
   "pygments_lexer": "ipython3",
   "version": "3.9.20"
  }
 },
 "nbformat": 4,
 "nbformat_minor": 5
}
